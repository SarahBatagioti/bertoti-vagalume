{
 "cells": [
  {
   "cell_type": "markdown",
   "id": "f38c5835",
   "metadata": {},
   "source": [
    "### Raspagem de dados do perfil do LinkedIn"
   ]
  },
  {
   "cell_type": "code",
   "execution_count": 27,
   "id": "37dd3050",
   "metadata": {},
   "outputs": [],
   "source": [
    "import warnings\n",
    "warnings.filterwarnings(\"ignore\")"
   ]
  },
  {
   "cell_type": "code",
   "execution_count": 28,
   "id": "64c3aa13",
   "metadata": {},
   "outputs": [
    {
     "data": {
      "text/plain": [
       "True"
      ]
     },
     "execution_count": 28,
     "metadata": {},
     "output_type": "execute_result"
    }
   ],
   "source": [
    "import os\n",
    "from dotenv import load_dotenv\n",
    "load_dotenv()"
   ]
  },
  {
   "cell_type": "code",
   "execution_count": 29,
   "id": "05cf71d1",
   "metadata": {},
   "outputs": [],
   "source": [
    "from bs4 import BeautifulSoup\n",
    "from selenium import webdriver\n",
    "from selenium.webdriver.common.by import By"
   ]
  },
  {
   "cell_type": "code",
   "execution_count": 30,
   "id": "41acc1e1",
   "metadata": {},
   "outputs": [],
   "source": [
    "# Abrir o Chrome\n",
    "driver = webdriver.Chrome()"
   ]
  },
  {
   "cell_type": "code",
   "execution_count": 31,
   "id": "74ef652d",
   "metadata": {},
   "outputs": [],
   "source": [
    "# Com o Chrome aberto, acessar o link de login do linkedin\n",
    "driver.get(\"https://www.linkedin.com/login\")"
   ]
  },
  {
   "cell_type": "code",
   "execution_count": 32,
   "id": "1bfb3c1d",
   "metadata": {},
   "outputs": [],
   "source": [
    "# Na página de login preencher o campo email\n",
    "email = driver.find_element(By.ID, 'username')\n",
    "email.send_keys(os.getenv('EMAIL'))"
   ]
  },
  {
   "cell_type": "code",
   "execution_count": 33,
   "id": "811404b8",
   "metadata": {},
   "outputs": [],
   "source": [
    "# Na página de login preencher o campo senha\n",
    "password = driver.find_element(By.ID, 'password')\n",
    "password.send_keys(os.getenv('PASSWORD'))"
   ]
  },
  {
   "cell_type": "code",
   "execution_count": 34,
   "id": "98ced416",
   "metadata": {},
   "outputs": [],
   "source": [
    "# Enviar as informações de login\n",
    "password.submit()"
   ]
  },
  {
   "cell_type": "code",
   "execution_count": 35,
   "id": "28e305a0",
   "metadata": {},
   "outputs": [],
   "source": [
    "# Abrir o perfil\n",
    "\n",
    "url = os.getenv('LINKEDIN_URL')\n",
    "driver.get(url)\n"
   ]
  },
  {
   "cell_type": "code",
   "execution_count": 36,
   "id": "b12a3729",
   "metadata": {},
   "outputs": [],
   "source": [
    "# captura todo o HTML atual da página aberta no navegador (a fim de encontrar as sessões do perfil)\n",
    "page_source = driver.page_source"
   ]
  },
  {
   "cell_type": "code",
   "execution_count": 37,
   "id": "d7bffee2",
   "metadata": {},
   "outputs": [],
   "source": [
    "# Através da biblioteca BeautifulSoup, transforma o HTML em um objeto navegável\n",
    "# Objetivo: Buscar, extrair e manipular dados de HTML facilmente\n",
    "soup = BeautifulSoup(page_source, 'html.parser')"
   ]
  },
  {
   "cell_type": "code",
   "execution_count": 38,
   "id": "1b39e3b4",
   "metadata": {},
   "outputs": [],
   "source": [
    "# Encontra a classe principal que mostra tudo do perfil\n",
    "profile = soup.find('main', {'class': 'HuakhXxGQdSsPopKGKtFOGWUEchdcbsjw'})"
   ]
  },
  {
   "cell_type": "code",
   "execution_count": 39,
   "id": "44e99606",
   "metadata": {},
   "outputs": [],
   "source": [
    "# Trazer todas as sessões do perfil\n",
    "sections = profile.find_all('section', {'class': 'artdeco-card'})"
   ]
  },
  {
   "cell_type": "code",
   "execution_count": 40,
   "id": "e50ecb16",
   "metadata": {},
   "outputs": [],
   "source": [
    "# Iterar as sessões para retornar uma lista de cada sessão individualmente\n",
    "sections_text = [section.get_text() for section in sections]"
   ]
  },
  {
   "cell_type": "code",
   "execution_count": 41,
   "id": "84281bba",
   "metadata": {},
   "outputs": [],
   "source": [
    "# Limpar o html retornado para deixar somente dados importantes e não repetidos\n",
    "\n",
    "import re\n",
    "\n",
    "def clean_text(text):\n",
    "    text = re.sub(r'\\n+', '\\n', text) #substitui oq repete por uma única linha\n",
    "    text = re.sub(r'\\t+', '\\t', text)\n",
    "    text = re.sub(r'\\t\\s+', ' ', text)\n",
    "    text = re.sub(r'\\n\\s+', '\\n', text)\n",
    "    return text"
   ]
  },
  {
   "cell_type": "code",
   "execution_count": 42,
   "id": "069374b0",
   "metadata": {},
   "outputs": [],
   "source": [
    "# Aplica a limpeza nas nossas sessões\n",
    "sections_text = [clean_text(section) for section in sections_text]"
   ]
  },
  {
   "cell_type": "code",
   "execution_count": 43,
   "id": "6fa60e4d",
   "metadata": {},
   "outputs": [],
   "source": [
    "#Removendo palavras duplicadas\n",
    "\n",
    "def remove_duplicates(text):\n",
    "    # Divide o texto em linhas, separando pelo caractere de nova linha '\\n'\n",
    "    lines = text.split('\\n')\n",
    "    \n",
    "    # Inicializa uma lista para armazenar as linhas processadas\n",
    "    new_lines = []\n",
    "    \n",
    "    # Percorre cada linha do texto original\n",
    "    for line in lines:\n",
    "        # Verifica se a primeira metade da linha é igual à segunda metade\n",
    "        if line[:len(line)//2] == line[len(line)//2:]:\n",
    "            # Se for igual, adiciona apenas a primeira metade na lista (corrigido aqui)\n",
    "            new_lines.append(line[:len(line)//2])\n",
    "        else:\n",
    "            # Caso contrário, adiciona a linha inteira\n",
    "            new_lines.append(line)\n",
    "    \n",
    "    # Junta todas as linhas da lista em uma única string, separando por '\\n'\n",
    "    return '\\n'.join(new_lines)"
   ]
  },
  {
   "cell_type": "code",
   "execution_count": 44,
   "id": "f5217266",
   "metadata": {},
   "outputs": [],
   "source": [
    "# Aplica a limpeza de duplicação nas nossas sessões\n",
    "sections_text = [remove_duplicates(section) for section in sections_text]"
   ]
  },
  {
   "cell_type": "markdown",
   "id": "e2912a0e",
   "metadata": {},
   "source": [
    "### Análise de dados de perfil usando LLM"
   ]
  },
  {
   "cell_type": "code",
   "execution_count": 45,
   "id": "d1d0380c",
   "metadata": {},
   "outputs": [],
   "source": [
    "# Importa classes necessárias da biblioteca langchain para construir prompts e interagir com o modelo de linguagem Ollama\n",
    "from langchain_ollama import ChatOllama\n",
    "from langchain_core.prompts import (SystemMessagePromptTemplate,\n",
    "                                    HumanMessagePromptTemplate,\n",
    "                                    ChatPromptTemplate)\n",
    "from langchain_core.output_parsers import StrOutputParser\n",
    "\n",
    "# Define a URL base onde o serviço Ollama está rodando localmente\n",
    "base_url = 'http://localhost:11434'\n",
    "\n",
    "# Escolhe qual modelo de linguagem será usado; a linha comentada usa 'llama3.2:3b' e a ativa usa 'qwen2.5:7b'\n",
    "\n",
    "model = 'llama3.2:3b'\n",
    "#model = 'qwen2.5:7b'\n",
    "\n",
    "# Inicializa o cliente do modelo Ollama com a URL base e o modelo escolhido\n",
    "llm = ChatOllama(base_url=base_url, model=model)\n",
    "\n",
    "# Define um template de mensagem do sistema, que funciona como uma instrução inicial para o modelo\n",
    "# Aqui, o sistema informa que é um assistente de IA que responde perguntas sobre análise de perfil do LinkedIn,\n",
    "# usando dados de texto fornecidos do perfil.\n",
    "system = SystemMessagePromptTemplate.from_template(\"\"\"\n",
    "Você é um assistente de IA útil que responde a perguntas de usuários relacionadas à análise de perfil do LinkedIn com base nos dados de texto do perfil fornecidos.\n",
    "\"\"\")\n",
    "\n",
    "# Define uma função para fazer perguntas ao modelo de linguagem\n",
    "def ask_llm(prompt):\n",
    "    # Cria um template para a mensagem do usuário, contendo o prompt passado para a função\n",
    "    prompt = HumanMessagePromptTemplate.from_template(prompt)\n",
    "    \n",
    "    # Combina a mensagem do sistema e do usuário numa lista de mensagens para o chat\n",
    "    messages = [system, prompt]\n",
    "\n",
    "    # Cria o template do chat com as mensagens do sistema e usuário\n",
    "    template = ChatPromptTemplate(messages)\n",
    "\n",
    "    # Constrói a cadeia de execução: envia o template para o modelo (llm) e depois usa um parser para obter a resposta como string simples\n",
    "    qna_chain = template | llm | StrOutputParser()\n",
    "\n",
    "    # Executa a cadeia (invoke) sem parâmetros adicionais e retorna a resposta do modelo\n",
    "    return qna_chain.invoke({})\n"
   ]
  },
  {
   "cell_type": "code",
   "execution_count": 46,
   "id": "5280c0eb",
   "metadata": {},
   "outputs": [
    {
     "data": {
      "text/plain": [
       "'Olá! Como posso ajudar você hoje? Você está procurando por alguma coisa específica sobre o seu perfil no LinkedIn ou precisa de ajuda para entender melhor seus perfis? Estou aqui para ajudar!'"
      ]
     },
     "execution_count": 46,
     "metadata": {},
     "output_type": "execute_result"
    }
   ],
   "source": [
    "ask_llm(\"hello\")"
   ]
  },
  {
   "cell_type": "code",
   "execution_count": 47,
   "id": "5ff01851",
   "metadata": {},
   "outputs": [],
   "source": [
    "# Define um template de prompt para enviar ao modelo, com instruções claras sobre o que extrair dos dados do perfil LinkedIn\n",
    "template = \"\"\" \n",
    "\n",
    "Extraia e retorne as informações solicitadas dos dados do perfil do LinkedIn em um formato conciso, ponto a ponto (até 5 pontos). Evite preâmbulos ou qualquer contexto adicional.\n",
    "\n",
    "### Dados do perfil do LinkedIn:\n",
    "{}\n",
    "\n",
    "### Informações a serem extraídas:\n",
    "\n",
    "Extraia '{}' em marcadores, limitando a saída até 9 pontos. Forneça apenas os detalhes necessários.\n",
    "\n",
    "Lembre-se, são dados de perfil do LinkedIn.\n",
    "\n",
    "### Dados extraídos: \"\"\"\n",
    "\n",
    "# 'context' recebe o texto da primeira seção dos dados do perfil LinkedIn (assumindo que sections_text seja uma lista de textos)\n",
    "context = sections_text[0]\n",
    "\n",
    "# 'k' é a informação que queremos extrair do perfil — aqui, \"Nome e Título\"\n",
    "k = \"Nome e Título\"\n",
    "\n",
    "# Formata o template, inserindo o texto do perfil e a informação específica que queremos extrair\n",
    "prompt = template.format(context, k)\n",
    "\n",
    "# Chama a função 'ask_llm' que envia o prompt ao modelo de linguagem e recebe a resposta\n",
    "response = ask_llm(prompt)\n"
   ]
  },
  {
   "cell_type": "code",
   "execution_count": 48,
   "id": "3febb3e0",
   "metadata": {},
   "outputs": [
    {
     "name": "stdout",
     "output_type": "stream",
     "text": [
      "*   Nome: Sarah Batagioti\n",
      "*   Título: Desenvolvedora Full Stack \n",
      "*   Habilidades:\n",
      "    *   Python\n",
      "    *   JavaScript\n",
      "    *   HTML\n",
      "    *   CSS\n",
      "    *   React\n",
      "    *   MySQL\n",
      "*   Localização: São José dos Campos, São Paulo, Brasil\n"
     ]
    }
   ],
   "source": [
    "print(response)"
   ]
  },
  {
   "cell_type": "code",
   "execution_count": 49,
   "id": "de39f8d1",
   "metadata": {},
   "outputs": [
    {
     "data": {
      "text/plain": [
       "['Nome e título', '', '', '', '', '']"
      ]
     },
     "execution_count": 49,
     "metadata": {},
     "output_type": "execute_result"
    }
   ],
   "source": [
    "# Extrai os títulos das seções dos textos do perfil LinkedIn para usar como chaves identificadoras# Percorre cada título de cada sessão\n",
    "\n",
    "section_keys = ['Nome e título']\n",
    "for section in sections_text[1:]:\n",
    "    section_keys.append(section.strip().split('\\n')[0])\n",
    "\n",
    "section_keys"
   ]
  },
  {
   "cell_type": "code",
   "execution_count": 50,
   "id": "d38ef811",
   "metadata": {},
   "outputs": [],
   "source": [
    "# Gera respostas para cada seção do perfil LinkedIn usando prompts personalizados e armazena em um dicionário\n",
    "responses = {}\n",
    "\n",
    "for k, context in zip(section_keys, sections_text):\n",
    "    prompt = template.format(context, k)   # Prepara o prompt com o texto da seção e o título correspondente\n",
    "    response = ask_llm(prompt=prompt)      # Envia o prompt ao modelo e obtém a resposta\n",
    "    responses[k] = response                 # Salva a resposta no dicionário com a chave do título da seção"
   ]
  },
  {
   "cell_type": "code",
   "execution_count": null,
   "id": "a6d8e6b7",
   "metadata": {},
   "outputs": [],
   "source": [
    "# Criar arquivo json com as informações do perfil \n",
    "\n",
    "import json\n",
    "\n",
    "with open('linkedin_profile_data.json', 'w', encoding='utf-8') as f:\n",
    "    json.dump(responses, f, indent=4, ensure_ascii=False)"
   ]
  }
 ],
 "metadata": {
  "kernelspec": {
   "display_name": "Python 3",
   "language": "python",
   "name": "python3"
  },
  "language_info": {
   "codemirror_mode": {
    "name": "ipython",
    "version": 3
   },
   "file_extension": ".py",
   "mimetype": "text/x-python",
   "name": "python",
   "nbconvert_exporter": "python",
   "pygments_lexer": "ipython3",
   "version": "3.12.2"
  }
 },
 "nbformat": 4,
 "nbformat_minor": 5
}
